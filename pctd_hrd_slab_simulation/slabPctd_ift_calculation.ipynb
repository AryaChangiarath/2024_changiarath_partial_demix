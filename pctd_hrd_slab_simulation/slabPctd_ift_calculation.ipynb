{
 "cells": [
  {
   "cell_type": "code",
   "execution_count": 1,
   "id": "7fb6be23",
   "metadata": {},
   "outputs": [],
   "source": [
    "import MDAnalysis as mda\n",
    "import numpy as np\n",
    "from numpy.linalg import norm\n",
    "import pandas as pd\n",
    "import csv\n",
    "import freud\n",
    "import os\n",
    "import glob\n",
    "from scipy.optimize import least_squares, curve_fit\n",
    "from mpl_toolkits.axes_grid1 import make_axes_locatable\n",
    "from matplotlib.colors import LogNorm\n",
    "import sys\n",
    "import matplotlib.pyplot as plt\n",
    "import math\n",
    "import gsd.hoomd\n",
    "import scipy.optimize as opt\n",
    "from scipy import stats\n"
   ]
  },
  {
   "cell_type": "code",
   "execution_count": 2,
   "id": "6883215d",
   "metadata": {},
   "outputs": [],
   "source": [
    "path = './'  \n",
    "dz = .5         \n",
    "useMax = 0     \n",
    "numCMs = 10     "
   ]
  },
  {
   "cell_type": "code",
   "execution_count": 3,
   "id": "4b44feb6",
   "metadata": {},
   "outputs": [
    {
     "name": "stdout",
     "output_type": "stream",
     "text": [
      "/lustre/miifs01/project/m2_trr146/achangia/cgSimulations/ctd/200pctd\n"
     ]
    }
   ],
   "source": [
    "cd /lustre/miifs01/project/m2_trr146/achangia/cgSimulations/ctd/200pctd/"
   ]
  },
  {
   "cell_type": "code",
   "execution_count": 4,
   "id": "8262cdce",
   "metadata": {},
   "outputs": [
    {
     "data": {
      "text/plain": [
       "'/lustre/miifs01/project/m2_trr146/achangia/cgSimulations/ctd/200pctd'"
      ]
     },
     "execution_count": 4,
     "metadata": {},
     "output_type": "execute_result"
    }
   ],
   "source": [
    "pwd"
   ]
  },
  {
   "cell_type": "code",
   "execution_count": 6,
   "id": "28606f83",
   "metadata": {},
   "outputs": [],
   "source": [
    "\n",
    "def interWidth(x,a,b,c,d):\n",
    "\n",
    "    return 0.5*(a+b)+.5*(b-a)*np.tanh((np.abs(x)-c)/d)\n"
   ]
  },
  {
   "cell_type": "code",
   "execution_count": 7,
   "id": "5b0175b5",
   "metadata": {},
   "outputs": [
    {
     "name": "stdout",
     "output_type": "stream",
     "text": [
      "out_190_dump.gsd\n",
      "out_191_dump.gsd\n",
      "out_192_dump.gsd\n",
      "out_193_dump.gsd\n",
      "out_194_dump.gsd\n",
      "out_195_dump.gsd\n",
      "out_196_dump.gsd\n",
      "out_197_dump.gsd\n",
      "out_198_dump.gsd\n",
      "out_199_dump.gsd\n"
     ]
    }
   ],
   "source": [
    "file_list=[]\n",
    "for i in range (190,200):\n",
    "    if os.path.exists('out_{}_dump.gsd'.format(i)):\n",
    "        print('out_{}_dump.gsd'.format(i))\n",
    "        file_list.append('out_{}_dump.gsd'.format(i))"
   ]
  },
  {
   "cell_type": "code",
   "execution_count": 8,
   "id": "254194a1",
   "metadata": {
    "scrolled": true
   },
   "outputs": [
    {
     "name": "stdout",
     "output_type": "stream",
     "text": [
      "out_190_dump.gsd 1021\n"
     ]
    }
   ],
   "source": [
    "k=0\n",
    "for fil_name in file_list:\n",
    "    try:\n",
    "        while k<500:\n",
    "\n",
    "            s1 = gsd.hoomd.open(name= fil_name, mode='rb')\n",
    "            k =len(s1)+k\n",
    "            print(fil_name,k)\n",
    "            #s.extend(s1)\n",
    "            print(len(s))\n",
    "            #print(s1[-1].particles.position[-2:])\n",
    "\n",
    "    except:\n",
    "        continue"
   ]
  },
  {
   "cell_type": "code",
   "execution_count": null,
   "id": "17a2606f",
   "metadata": {},
   "outputs": [],
   "source": []
  },
  {
   "cell_type": "code",
   "execution_count": 13,
   "id": "125fcc89",
   "metadata": {},
   "outputs": [],
   "source": [
    "\n",
    "cp out_100_200_restart.gsd out_net.gsd"
   ]
  },
  {
   "cell_type": "code",
   "execution_count": 14,
   "id": "35d02973",
   "metadata": {},
   "outputs": [],
   "source": [
    "k=0\n",
    "\n",
    "s = gsd.hoomd.open(name= 'out_net.gsd', mode='rb+')\n",
    "\n",
    "for fil_name in file_list[:]:\n",
    "    while k<500:\n",
    "        try:\n",
    "            \n",
    "            \n",
    "            s1 = gsd.hoomd.open(name= fil_name, mode='rb')\n",
    "            k =len(s1)+k\n",
    "            s.extend(s1[:500])\n",
    "            \n",
    "        except:\n",
    "            continue\n",
    "        \n",
    "        "
   ]
  },
  {
   "cell_type": "code",
   "execution_count": 15,
   "id": "302a2062",
   "metadata": {},
   "outputs": [],
   "source": [
    "s = gsd.hoomd.open(name= 'out_net.gsd', mode='rb+')\n"
   ]
  },
  {
   "cell_type": "code",
   "execution_count": 16,
   "id": "4fd931b3",
   "metadata": {},
   "outputs": [
    {
     "data": {
      "text/plain": [
       "<GSDReader out_net.gsd with 501 frames of 28200 atoms>"
      ]
     },
     "execution_count": 16,
     "metadata": {},
     "output_type": "execute_result"
    }
   ],
   "source": [
    "u=mda.Universe('out_net.gsd')\n",
    "u.trajectory"
   ]
  },
  {
   "cell_type": "code",
   "execution_count": 17,
   "id": "595d58a3",
   "metadata": {},
   "outputs": [
    {
     "name": "stdout",
     "output_type": "stream",
     "text": [
      "number of frames:  501\n"
     ]
    }
   ],
   "source": [
    "\n",
    "nFrames=len(s)\n",
    "\n",
    "startFrame = 0 #len(s) \n",
    "\n",
    "snapshotCount = len(s)\n",
    "\n",
    "simBox = s[0].configuration.box\n",
    "masses = s[0].particles.mass\n",
    "screenTimer = int((snapshotCount - startFrame) / 20)                                                                                                      #?\n",
    "if screenTimer == 0:\n",
    "    screenTimer = 1\n",
    "\n",
    "# Determine number and size of bins\n",
    "histoVolume = simBox[0] * simBox[1] * dz\n",
    "histoCount = int(simBox[2] / dz) + 1\n",
    "histoBins = np.linspace(-simBox[2] / 2.0, simBox[2] / 2.0, num=histoCount)\n",
    "\n",
    "# Prepare histograms\n",
    "distribMonomerPos = []\n",
    "distribMonomerCMPos = []\n",
    "\n",
    "print('number of frames: ', snapshotCount)\n",
    "\n",
    "def pos_shift(pos,axis):\n",
    "\n",
    "\n",
    "    nini=0\n",
    "    nfin=s[0].particles.position.shape[0]\n",
    "    #print(pos)\n",
    "    distribMonomerPos.append(np.histogram(pos[nini:nfin, axis],\n",
    "                                      bins=histoBins,\n",
    "                                      weights=masses[nini:nfin],\n",
    "                                      density=False)[0])\n",
    "\n",
    "    # Compute density distribution of monomers in lab frame\n",
    "    distribMonomerPos.append(np.histogram(pos[nini:nfin, axis],\n",
    "                                  bins=histoBins,\n",
    "                                  weights=masses[nini:nfin],\n",
    "                                  density=False)[0])\n",
    "    # Compute density distribution of monomers in CM frame (first remove CM from box boundaries, then pos-=CM)\n",
    "    if useMax:\n",
    "        \n",
    "        particlesPosShifted = pos[:]\n",
    "        #print(particlesPosShifted)\n",
    "        tempDistrib = np.histogram(particlesPosShifted[:, axis], bins=histoBins, weights=masses, density=False)[0]\n",
    "        maxDensBin = np.argmax(tempDistrib)\n",
    "        particlesPosShifted[:, axis] = particlesPosShifted[:, axis] - (maxDensBin * dz - simBox[axis] / 2.0)\n",
    "        particlesPosShifted[particlesPosShifted < -simBox[axis] * 0.5] += simBox[axis]\n",
    "        particlesPosShifted[particlesPosShifted >  simBox[axis] * 0.5] -= simBox[axis]\n",
    "\n",
    "        CM = np.mean(particlesPosShifted, axis=0)\n",
    "        particlesPosShifted = particlesPosShifted - CM\n",
    "        particlesPosShifted[particlesPosShifted < -simBox[axis] * 0.5] += simBox[axis]\n",
    "        particlesPosShifted[particlesPosShifted >  simBox[axis] * 0.5] -= simBox[axis]\n",
    "    else:\n",
    "        particlesPosShifted = pos[:]\n",
    "        for j in range(numCMs):\n",
    "            CM = np.mean(particlesPosShifted, 0)\n",
    "            particlesPosShifted = particlesPosShifted - CM\n",
    "            particlesPosShifted[particlesPosShifted < -simBox[axis] * 0.5] += simBox[axis]\n",
    "            particlesPosShifted[particlesPosShifted >  simBox[axis] * 0.5] -= simBox[axis]\n",
    "\n",
    "  \n",
    "    #print(particlesPosShifted)\n",
    "    return particlesPosShifted\n",
    "\n"
   ]
  },
  {
   "cell_type": "code",
   "execution_count": 18,
   "id": "6e6876f5",
   "metadata": {},
   "outputs": [],
   "source": [
    "\n",
    "Lx,Ly,Lz= s[0].configuration.box[:3] #u.dimensions[2]\n",
    "lz=Lz\n",
    "L=15\n",
    "edges = np.arange(-lz/2,lz/2,1)\n",
    "dz = (edges[1]-edges[0])/2.\n",
    "z = edges[:-1]+dz\n",
    "tmin = 0\n",
    "\n",
    "tmax = snapshotCount  #len(s)\n",
    "dt = 1\n",
    "nt = tmax - tmin\n",
    "\n",
    "\n",
    "lambda1 = np.zeros(nt) #principal values\n",
    "lambda2 = np.zeros(nt)\n",
    "lambda3 = np.zeros(nt)\n",
    "\n",
    "ax1, ax2, ax3 = np.zeros((nt,3)), np.zeros((nt,3)),np.zeros((nt,3)) #principal axes\n",
    "tims = 0\n",
    "natoms=s[0].particles.N\n",
    "\n",
    "position = np.zeros((nFrames,natoms,3))\n",
    "\n",
    "j=0\n",
    "for ts in range (startFrame, snapshotCount):    \n",
    "    particlesPosShifted_x = pos_shift(s[ts].particles.position,2)\n",
    "\n",
    "    pos = particlesPosShifted_x[:] #u.atoms.positions[ini_no:fin_no] - u.atoms[ini_no:fin_no].center_of_geometry()\n",
    "    \n",
    "    \n",
    "    hm1 = np.histogram(pos[:,2] ,bins=edges )[0]\n",
    "    #plt.figure()\n",
    "    #plt.plot(hm1)\n",
    "    position[j][:] = pos\n",
    "    \n",
    "    j +=1"
   ]
  },
  {
   "cell_type": "code",
   "execution_count": 19,
   "id": "333cac3a",
   "metadata": {},
   "outputs": [
    {
     "data": {
      "text/plain": [
       "<Figure size 432x288 with 0 Axes>"
      ]
     },
     "metadata": {},
     "output_type": "display_data"
    },
    {
     "data": {
      "image/png": "[encoded data removed]",
      "text/plain": [
       "<Figure size 504x288 with 1 Axes>"
      ]
     },
     "metadata": {
      "needs_background": "light"
     },
     "output_type": "display_data"
    }
   ],
   "source": [
    "import matplotlib \n",
    "matplotlib.rcParams.update({'font.size': 18})\n",
    "\n",
    "h1 = np.apply_along_axis(lambda a: np.histogram(a,bins=edges)[0], 1, position[:,:14000,2] )\n",
    "h2 = np.apply_along_axis(lambda a: np.histogram(a,bins=edges)[0], 1, position[:,14000:,2] )\n",
    "h3 = np.apply_along_axis(lambda a: np.histogram(a,bins=edges)[0], 1, position[:,:,2] )\n",
    "\n",
    "matplotlib.rcParams.update({'font.size': 23})\n",
    "\n",
    "hm1 = np.mean(h1[:],axis=0)\n",
    "hm2 = np.mean(h2[:],axis=0)\n",
    "hm3 = np.mean(h3[:],axis=0)\n",
    "\n",
    "plt.figure()\n",
    "plt.figure(figsize=(7,4))\n",
    "\n",
    "conv1 = 10/6.022/140/L/L*1e3 #*np.sum(mass_protein_l[0]) /1000\n",
    "\n",
    "plt.plot(z,conv1*hm1,'r--', linewidth= 3,alpha=.4,label='pCTD')\n",
    "\n",
    "conv2 = 10/6.022/71/L/L*1e3 #*np.sum(mass_protein_l[0]) /1000\n",
    "plt.plot(z,conv2*hm2,'b--', linewidth= 3,alpha=.4,label='HRD')\n",
    "\n",
    "#plt.plot(z,hm2,'r',label='pctd')\n",
    "plt.plot(z,conv1*hm1+conv2*hm2, c = 'tab:red', linewidth= 3.,label='Total')\n",
    "\n",
    "\n",
    "\n",
    "plt.legend(fontsize=17)  # Set the legend fontsize to 12 (adjust as needed)\n",
    "plt.xlabel('z [nm]')\n",
    "plt.ylabel('Density [mM]')\n",
    "plt.tight_layout()\n",
    "\n",
    "plt.savefig('densityPlot_pctd.pdf',dpi=350)\n"
   ]
  },
  {
   "cell_type": "code",
   "execution_count": 22,
   "id": "8780075a",
   "metadata": {},
   "outputs": [],
   "source": [
    "positionParticle = position\n",
    "\n",
    "def interWidth(x,a,b,c,d):\n",
    "\n",
    "    return 0.5*(a+b)+.5*(b-a)*np.tanh((np.abs(x)-c)/d)\n"
   ]
  },
  {
   "cell_type": "code",
   "execution_count": 23,
   "id": "d1363fe9",
   "metadata": {},
   "outputs": [],
   "source": [
    "grid_size = []\n",
    "list_width_avg=[]\n",
    "nFrames = positionParticle.shape[0]\n",
    "Lx,Ly,Lz = s[0].configuration.box[:3]\n",
    "\n"
   ]
  },
  {
   "cell_type": "code",
   "execution_count": null,
   "id": "bd98ec91",
   "metadata": {},
   "outputs": [],
   "source": []
  },
  {
   "cell_type": "code",
   "execution_count": null,
   "id": "953194db",
   "metadata": {
    "scrolled": true
   },
   "outputs": [
    {
     "name": "stdout",
     "output_type": "stream",
     "text": [
      "2.0\n"
     ]
    },
    {
     "name": "stderr",
     "output_type": "stream",
     "text": [
      "/cluster/easybuild/broadwell/software/SciPy-bundle/2019.10-fosscuda-2019b-Python-3.7.4/lib/python3.7/site-packages/scipy/optimize/minpack.py:795: OptimizeWarning: Covariance of the parameters could not be estimated\n",
      "  category=OptimizeWarning)\n"
     ]
    },
    {
     "name": "stdout",
     "output_type": "stream",
     "text": [
      "2.6666666666666665\n",
      "3.333333333333333\n",
      "4.0\n",
      "4.666666666666666\n"
     ]
    }
   ],
   "source": [
    "def error(hs):\n",
    "    #np.sum(x[:,5:8])\n",
    "    \n",
    "    #[h[h.shape[0]%chunk:][i*chunk:(i+1)*chunk] for i in range(h.shape[0]//chunk)]\n",
    "    error_den = np.std(hs)/np.sqrt(len(hs))\n",
    "    return error_den\n",
    "width_error=[]\n",
    "intrWid_avg=[]\n",
    "list_width_avg=[]\n",
    "\n",
    "for gs in (np.linspace(2,8,10)):\n",
    "    print(gs)\n",
    "    # Determine the dimensions of the smaller grids\n",
    "    grid_size_x = gs\n",
    "    grid_size_y = gs\n",
    "\n",
    "    # Calculate the number of grids in each dimension\n",
    "    num_grids_x = int(Lx / grid_size_x)\n",
    "    num_grids_y = int(Ly / grid_size_y)\n",
    "\n",
    "\n",
    "\n",
    "    n_chains1 = 100\n",
    "    nm1 = 140\n",
    "\n",
    "    n_chains3 = 200\n",
    "    nm3 = 71\n",
    "\n",
    "\n",
    "    histPctd = np.zeros((nFrames, edges.shape[0]-1 )) \n",
    "    histctd = np.zeros((nFrames, edges.shape[0]-1 )) \n",
    "    histhrd = np.zeros((nFrames, edges.shape[0]-1 )) \n",
    "    \n",
    "    hm1=np.zeros((num_grids_x*num_grids_y, edges.shape[0]-1 ))\n",
    "    hm2=np.zeros((num_grids_x*num_grids_y, edges.shape[0]-1 ))\n",
    "    hm3=np.zeros((num_grids_x*num_grids_y, edges.shape[0]-1 ))\n",
    "    \n",
    "    list_width=[]\n",
    "    intrWid=[]\n",
    "\n",
    "    for nframe in range (500):\n",
    "\n",
    "        #print(nframe)\n",
    "        # Iterate over the grids and plot a histogram for each grid\n",
    "        count = 0\n",
    "        \n",
    "        for i in range(num_grids_x):\n",
    "            for j in range(num_grids_y):\n",
    "\n",
    "                # Calculate the starting and ending coordinates of the grid\n",
    "                x_start = -Lx/2+i * grid_size_x\n",
    "                x_end = x_start + grid_size_x\n",
    "                y_start =-Ly/2+ j * grid_size_y\n",
    "                y_end = y_start + grid_size_y\n",
    "                #print(i,j,x_start,x_end,y_start,y_end)\n",
    "\n",
    "\n",
    "                particles = positionParticle[nframe][:n_chains1*nm1]\n",
    "                # Find the particles within the grid\n",
    "                particles_in_grid_pctd = particles[(x_start <= particles[:, 0]) & (particles[:, 0] < x_end) &\n",
    "                                              (y_start <= particles[:, 1]) & (particles[:, 1] < y_end) ]\n",
    "\n",
    "\n",
    "                particles = positionParticle[nframe][n_chains1*nm1:]\n",
    "                # Find the particles within the grid\n",
    "                particles_in_grid_hrd = particles[(x_start <= particles[:, 0]) & (particles[:, 0] < x_end) &\n",
    "                                              (y_start <= particles[:, 1]) & (particles[:, 1] < y_end) ]\n",
    "\n",
    "\n",
    "                #hm1 = np.histogram(particles_in_grid_ctd[:,2] ,bins=edges )[0]\n",
    "                hm2 = np.histogram(particles_in_grid_pctd[:,2] ,bins=edges )[0]\n",
    "                hm3 = np.histogram(particles_in_grid_hrd[:,2] ,bins=edges )[0]\n",
    "\n",
    "                #         plt.plot( np.histogram(particles_in_grid_pctd[:,2] ,bins=edges )[0])\n",
    "                #         plt.plot( np.histogram(particles_in_grid_ctd[:,2] ,bins=edges )[0] )\n",
    "                #         plt.plot( np.histogram(particles_in_grid_hrd[:,2] ,bins=edges )[0] )\n",
    "                #print(particles_in_grid.shape )\n",
    "                #plt.plot(hm2)\n",
    "\n",
    "                ##plt.figure()\n",
    "\n",
    "                #plt.plot(z,hm2+hm3)\n",
    "                \n",
    "                \n",
    "                count +=1\n",
    "                z = edges[:-1]+dz\n",
    "                try:\n",
    "                    \n",
    "\n",
    "                    y=hm2+hm3\n",
    "\n",
    "                    z = edges[:-1]+dz\n",
    "                    # plt.plot(z,y)\n",
    "\n",
    "                    ind=(z<0) # & (z>2)\n",
    "                    y=y[ind]\n",
    "                    x=z[ind]\n",
    " \n",
    "                    optimizedParameters1, pcov = opt.curve_fit(interWidth, x, y);\n",
    " \n",
    "\n",
    "                    #plt.plot(x, interWidth(x, *optimizedParameters1));\n",
    "\n",
    "                    y=hm2+hm3\n",
    "\n",
    "                    z = edges[:-1]+dz\n",
    "                    # plt.plot(z,y)\n",
    "\n",
    "                    ind=(z>0) # & (z>2)\n",
    "                    y=y[ind]\n",
    "                    x=z[ind]\n",
    " \n",
    "                    optimizedParameters2, pcov = opt.curve_fit(interWidth, x, y);\n",
    "\n",
    "                    # plt.plot(x, interWidth(x, *optimizedParameters1));\n",
    "\n",
    "                    # plt.plot(x,y)\n",
    "                    \n",
    "                    list_width.append(((optimizedParameters1[3]+optimizedParameters2[3])*.5)**2 )\n",
    "                \n",
    "                    #intrWid.append((optimizedParameters1[2]+optimizedParameters2[2])*.5)\n",
    "     \n",
    "                    #print(((optimizedParameters1[3]+optimizedParameters2[3])*.5)**2 )\n",
    "                except:\n",
    "                    continue\n",
    "                \n",
    "    #print(np.array( list_width).mean())\n",
    "    #intrWid_avg.append( np.array( intrWid).mean() )\n",
    "    width_error.append( error(np.array( list_width)))\n",
    "    list_width_avg.append(np.array( list_width).mean())\n",
    "\n",
    "        "
   ]
  },
  {
   "cell_type": "code",
   "execution_count": null,
   "id": "c4b50964",
   "metadata": {},
   "outputs": [],
   "source": [
    "plt.figure()\n",
    "\n",
    "plt.plot(z,hm2+hm3,'grey')\n",
    "\n",
    "y=hm2+hm3\n",
    "\n",
    "z = edges[:-1]+dz\n",
    "# plt.plot(z,y)\n",
    "\n",
    "ind=(z<0) # & (z>2)\n",
    "y=y[ind]\n",
    "x=z[ind]\n",
    "\n",
    "optimizedParameters1, pcov = opt.curve_fit(interWidth, x, y);\n",
    "\n",
    "\n",
    "#plt.plot(x, interWidth(x, *optimizedParameters1));\n",
    "\n",
    "y=hm2+hm3\n",
    "\n",
    "z = edges[:-1]+dz\n",
    "# plt.plot(z,y)\n",
    "\n",
    "ind=(z>0) # & (z>2)\n",
    "y=y[ind]\n",
    "x=z[ind]\n",
    "\n",
    "optimizedParameters2, pcov = opt.curve_fit(interWidth, x, y);\n",
    "\n",
    "\n",
    "plt.plot(x, interWidth(x, *optimizedParameters1),label='fit');\n",
    "\n",
    "plt.axvline(x=optimizedParameters1[2],c='y')\n",
    "plt.axvline(x=optimizedParameters1[2]+optimizedParameters1[3],c='g')\n",
    "plt.axvline(x=optimizedParameters1[2]-optimizedParameters1[3],c='g')\n",
    "\n",
    "#plt.plot(x,y)\n",
    "\n",
    "plt.xlabel('z[nm]')\n",
    "plt.ylabel('Density[mg/ml]')\n",
    "plt.xlim(5,20)\n",
    "plt.legend()\n",
    "plt.tight_layout()\n",
    "plt.savefig('fit_200.png')\n"
   ]
  },
  {
   "cell_type": "code",
   "execution_count": null,
   "id": "48f85413",
   "metadata": {},
   "outputs": [],
   "source": []
  },
  {
   "cell_type": "code",
   "execution_count": null,
   "id": "f8d03b7c",
   "metadata": {},
   "outputs": [],
   "source": [
    "list_width_avg=np.array(list_width_avg)"
   ]
  },
  {
   "cell_type": "code",
   "execution_count": null,
   "id": "86938794",
   "metadata": {},
   "outputs": [],
   "source": [
    "def interfacial_tension(lnR, W0, b, m):\n",
    "    return W0**2 + m *  ((lnR-b) )\n",
    "\n",
    "def gamma(R,W2_data,width_error):\n",
    "    R_data = np.log(R)\n",
    "    \n",
    "    initial_guess = [1, 1, 1]\n",
    "\n",
    "    # curve fit\n",
    "    params, cov = curve_fit(interfacial_tension, R_data, W2_data,sigma=width_error,absolute_sigma=True)\n",
    "\n",
    "    # parameters -- W0, b, m \n",
    "    W0_fit, b_fit, m_fit = params\n",
    "    W0_err, b_err, m_err =  [np.sqrt(cov[0][0]), np.sqrt(cov[1][1]), np.sqrt(cov[2][2])]\n",
    "    \n",
    "\n",
    "    R_fit = np.linspace(min(R_data), max(R_data), 100)\n",
    "    W2_fit = interfacial_tension(R_fit, W0_fit, b_fit, m_fit)\n",
    "\n",
    "    \n",
    "    ## Find the interfacail tension gamma from m, the slope.\n",
    "    KB = 1.380649e-23  # Boltzmann constant\n",
    "    T = 300  # Temperature\n",
    "    m = m_fit #params[2]\n",
    "    \n",
    "    gamma = (KB * T) / (2 * np.pi * m)   ## Unit -- J/nm^2 == Nm/nm^2 == 10^18 * N/m == 10^21 mN/m\n",
    "    \n",
    "    # error of gamma:\n",
    "    error_gamma = (KB * T) / (2 * np.pi * m_fit**2) * m_err\n",
    "\n",
    "    print(f\"Interfacial tension (gamma): {gamma*10**(21)} ± {error_gamma*10**(21)}\")\n",
    "    \n",
    "    plt.figure(figsize=(7,6))\n",
    "\n",
    "    plt.scatter(R_data, W2_data )\n",
    "    formatted_gamma = '{:.2g}'.format(gamma*10**(21))\n",
    "    formatted_gammaErr = '{:.2g}'.format(error_gamma*10**(21))\n",
    "    plt.errorbar(R_data, W2_data ,yerr=width_error[:] ,  \n",
    "                 fmt ='o',markersize=12,markerfacecolor='none', \n",
    "                 color='mediumslateblue' ,\n",
    "                 capsize=2)\n",
    "    formatted_gammaErr = '{:.2g}'.format(error_gamma*10**(21))\n",
    "    plt.plot(R_fit, W2_fit, '--',lw=4.5, label=r'$\\gamma={}\\pm{} $'.format(formatted_gamma ,formatted_gammaErr ) )\n",
    "    plt.xlabel(r'ln B [nm]')\n",
    "    plt.ylabel(r'W$^{2}$ [nm$^{2}$]')\n",
    "    plt.legend()\n",
    "    #plt.show()\n",
    "    plt.tight_layout()\n",
    "    plt.savefig('w2_pctd_ctd_200.png',dpi=300)\n",
    "    return gamma,error_gamma\n",
    "    \n",
    "    "
   ]
  },
  {
   "cell_type": "code",
   "execution_count": 41,
   "id": "d0071900",
   "metadata": {},
   "outputs": [],
   "source": [
    "w2=list_width_avg\n",
    "l=np.linspace(2,8,10) #[3,4,5,6,7]"
   ]
  },
  {
   "cell_type": "code",
   "execution_count": null,
   "id": "3f249fb5",
   "metadata": {},
   "outputs": [],
   "source": [
    "width_error=np.array(width_error)"
   ]
  },
  {
   "cell_type": "code",
   "execution_count": null,
   "id": "51f96f31",
   "metadata": {},
   "outputs": [],
   "source": [
    "plt.rcParams.update({'font.size': 23})\n",
    "\n",
    "Gamma,err = gamma(l[2:],w2[2:],width_error[2:])\n",
    "\n",
    "print('gamma = ',Gamma*10**(21) ,'mN/m')\n"
   ]
  },
  {
   "cell_type": "code",
   "execution_count": null,
   "id": "2d25fe99",
   "metadata": {},
   "outputs": [],
   "source": [
    "Gamma,err = gamma(l[2:],w22[2:],width_error[2:])\n"
   ]
  },
  {
   "cell_type": "code",
   "execution_count": null,
   "id": "481ccfd1",
   "metadata": {},
   "outputs": [],
   "source": []
  },
  {
   "cell_type": "code",
   "execution_count": null,
   "id": "41b9d4d6",
   "metadata": {},
   "outputs": [],
   "source": []
  },
  {
   "cell_type": "code",
   "execution_count": 155,
   "id": "f7fd358d",
   "metadata": {},
   "outputs": [
    {
     "name": "stdout",
     "output_type": "stream",
     "text": [
      "gamma =  1.0520401845617509 mN/m\n"
     ]
    },
    {
     "data": {
      "image/png": "[encoded data removed]",
      "text/plain": [
       "<Figure size 504x432 with 1 Axes>"
      ]
     },
     "metadata": {
      "needs_background": "light"
     },
     "output_type": "display_data"
    }
   ],
   "source": [
    "plt.rcParams.update({'font.size': 23})\n",
    "\n",
    "Gamma = gamma(l[1:],w2[1:])\n",
    "\n",
    "print('gamma = ',Gamma*10**(21) ,'mN/m')\n",
    "\n"
   ]
  },
  {
   "cell_type": "code",
   "execution_count": null,
   "id": "a7beea65",
   "metadata": {},
   "outputs": [],
   "source": []
  },
  {
   "cell_type": "code",
   "execution_count": null,
   "id": "55766191",
   "metadata": {},
   "outputs": [],
   "source": []
  },
  {
   "cell_type": "code",
   "execution_count": null,
   "id": "5404d049",
   "metadata": {},
   "outputs": [],
   "source": []
  }
 ],
 "metadata": {
  "kernelspec": {
   "display_name": "Python 3 (ipykernel)",
   "language": "python",
   "name": "python3"
  },
  "language_info": {
   "codemirror_mode": {
    "name": "ipython",
    "version": 3
   },
   "file_extension": ".py",
   "mimetype": "text/x-python",
   "name": "python",
   "nbconvert_exporter": "python",
   "pygments_lexer": "ipython3",
   "version": "3.7.4"
  }
 },
 "nbformat": 4,
 "nbformat_minor": 5
}

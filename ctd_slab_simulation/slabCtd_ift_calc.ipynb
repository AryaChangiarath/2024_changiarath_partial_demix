{
 "cells": [
  {
   "cell_type": "code",
   "execution_count": 1,
   "id": "7fb6be23",
   "metadata": {},
   "outputs": [],
   "source": [
    "import MDAnalysis as mda\n",
    "import numpy as np\n",
    "from numpy.linalg import norm\n",
    "import pandas as pd\n",
    "import sklearn.decomposition\n",
    "import csv\n",
    "from MDAnalysis.analysis.distances import distance_array\n",
    "import freud\n",
    "import os\n",
    "import glob\n",
    "from scipy.optimize import least_squares, curve_fit\n",
    "from mpl_toolkits.axes_grid1 import make_axes_locatable\n",
    "from cycler import cycler\n",
    "from matplotlib.colors import LogNorm\n",
    "import sys\n",
    "import math\n",
    "import matplotlib.pyplot as plt\n",
    "import gsd.hoomd\n",
    "import scipy.optimize as opt\n",
    "from scipy import stats\n"
   ]
  },
  {
   "cell_type": "code",
   "execution_count": 2,
   "id": "8ddf9015",
   "metadata": {},
   "outputs": [
    {
     "name": "stdout",
     "output_type": "stream",
     "text": [
      "/lustre/miifs01/project/m2_trr146/achangia/cgSimulations/ctd\n"
     ]
    }
   ],
   "source": [
    "cd /lustre/miifs01/project/m2_trr146/achangia/cgSimulations/ctd/"
   ]
  },
  {
   "cell_type": "code",
   "execution_count": 3,
   "id": "e807eacf",
   "metadata": {},
   "outputs": [
    {
     "name": "stdout",
     "output_type": "stream",
     "text": [
      "/lustre/miifs01/project/m2_trr146/achangia/cgSimulations/ctd/300ctd\n"
     ]
    }
   ],
   "source": [
    "cd 300ctd/"
   ]
  },
  {
   "cell_type": "code",
   "execution_count": null,
   "id": "356fc6f5",
   "metadata": {},
   "outputs": [],
   "source": []
  },
  {
   "cell_type": "code",
   "execution_count": null,
   "id": "0038573b",
   "metadata": {},
   "outputs": [],
   "source": []
  },
  {
   "cell_type": "code",
   "execution_count": 47,
   "id": "92119a1d",
   "metadata": {
    "scrolled": true
   },
   "outputs": [
    {
     "data": {
      "image/png": "[encoded data removed]",
      "text/plain": [
       "<Figure size 432x288 with 1 Axes>"
      ]
     },
     "metadata": {
      "needs_background": "light"
     },
     "output_type": "display_data"
    }
   ],
   "source": [
    "k=0\n",
    "list_width_avg=np.zeros(10)\n",
    "list_width_err=np.zeros(10)\n",
    "\n",
    "\n",
    "for i in range(27,28):\n",
    "    file='output_file_{}.txt'.format(i)\n",
    "    if os.path.exists(file):\n",
    "        k +=1\n",
    "        list_width_avg += np.genfromtxt(file)[:,1]\n",
    "        list_width_err += np.genfromtxt(file)[:,2]\n",
    "        plt.figure()\n",
    "        plt.plot(np.genfromtxt(file)[:,1],'o')"
   ]
  },
  {
   "cell_type": "code",
   "execution_count": 48,
   "id": "73845bbf",
   "metadata": {},
   "outputs": [
    {
     "data": {
      "text/plain": [
       "1"
      ]
     },
     "execution_count": 48,
     "metadata": {},
     "output_type": "execute_result"
    }
   ],
   "source": [
    "k"
   ]
  },
  {
   "cell_type": "code",
   "execution_count": 49,
   "id": "ba29ce47",
   "metadata": {},
   "outputs": [],
   "source": [
    "list_width_avg=list_width_avg/k\n",
    "\n",
    "list_width_err =list_width_err/k"
   ]
  },
  {
   "cell_type": "code",
   "execution_count": 50,
   "id": "838720fe",
   "metadata": {},
   "outputs": [
    {
     "data": {
      "text/plain": [
       "[<matplotlib.lines.Line2D at 0x7f9725d54b10>]"
      ]
     },
     "execution_count": 50,
     "metadata": {},
     "output_type": "execute_result"
    },
    {
     "data": {
      "image/png": "[encoded data removed]",
      "text/plain": [
       "<Figure size 432x288 with 1 Axes>"
      ]
     },
     "metadata": {
      "needs_background": "light"
     },
     "output_type": "display_data"
    }
   ],
   "source": [
    "plt.plot(list_width_avg,'o')"
   ]
  },
  {
   "cell_type": "code",
   "execution_count": 51,
   "id": "32be71be",
   "metadata": {},
   "outputs": [],
   "source": [
    "\n",
    "def interWidth(x,a,b,c,d):\n",
    "\n",
    "    return 0.5*(a+b)+.5*(b-a)*np.tanh((np.abs(x)-c)/d)\n"
   ]
  },
  {
   "cell_type": "code",
   "execution_count": null,
   "id": "86938794",
   "metadata": {},
   "outputs": [],
   "source": []
  },
  {
   "cell_type": "code",
   "execution_count": 52,
   "id": "ebbdaec3",
   "metadata": {},
   "outputs": [],
   "source": [
    "import numpy as np\n",
    "import matplotlib.pyplot as plt\n",
    "from scipy.optimize import curve_fit\n",
    "\n",
    "def interfacial_tension_slab(lnL, W0, b, m):\n",
    "    '''\n",
    "    W0 - intrinsic width\n",
    "    lnL - log of slab thickness or length\n",
    "    b - short-wavelength cutoff\n",
    "    m - KB*T/(2*pi*gamma), where gamma is the interfacial tension\n",
    "    Return : W - the interface width\n",
    "    '''\n",
    "    return W0**2 + m * (lnL - b)\n",
    "\n",
    "def gamma_slab(L, W2_data):\n",
    "    '''\n",
    "    Calculate interfacial tension (gamma) for a slab from data.\n",
    "    L - Thickness or length of the slab\n",
    "    W2_data - Squared width of the interface\n",
    "    Return : gamma, error_gamma\n",
    "    '''\n",
    "    # Convert L to ln(L)\n",
    "    L_data = np.log(L)\n",
    "    \n",
    "    initial_guess = [1, 1, 1]\n",
    "\n",
    "    # Curve fit\n",
    "    params, cov = curve_fit(interfacial_tension_slab, L_data, W2_data)\n",
    "\n",
    "    # Parameters -- W0, b, m \n",
    "    W0_fit, b_fit, m_fit = params\n",
    "    W0_err, b_err, m_err = [np.sqrt(cov[0][0]), np.sqrt(cov[1][1]), np.sqrt(cov[2][2])]\n",
    "\n",
    "    L_fit = np.linspace(min(L_data), max(L_data), 100)\n",
    "    W2_fit = interfacial_tension_slab(L_fit, W0_fit, b_fit, m_fit)\n",
    "\n",
    "    # Find the interfacial tension gamma from m, the slope\n",
    "    KB = 1.380649e-23  # Boltzmann constant\n",
    "    T = 300  # Temperature (Kelvin)\n",
    "    gamma = (KB * T) / (2 * np.pi * m_fit)  # Unit -- J/m^2\n",
    "\n",
    "    # Error of gamma\n",
    "    error_gamma = (KB * T) / (2 * np.pi * m_fit**2) * m_err\n",
    "\n",
    "    print(f\"Interfacial tension (gamma): {gamma * 1e21:.2f} ± {error_gamma * 1e21:.2f} mN/m\")\n",
    "\n",
    "    plt.figure(figsize=(7, 6))\n",
    "\n",
    "    plt.scatter(L_data, W2_data)\n",
    "    \n",
    "\n",
    "    formatted_gamma = '{:.2g}'.format(gamma * 1e21)\n",
    "    formatted_gammaErr = '{:.2g}'.format(error_gamma * 1e21)\n",
    "    plt.plot(L_fit, W2_fit, '--', lw=4.5, label=r'$\\gamma={}\\pm{}$'.format(formatted_gamma, formatted_gammaErr))\n",
    "    plt.xlabel(r'ln L [nm]')\n",
    "    plt.ylabel(r'W$^{2}$ [nm$^{2}$]')\n",
    "    plt.legend()\n",
    "    plt.tight_layout()\n",
    "    plt.savefig('w2_slab_v1.pdf', dpi=300)\n",
    "    \n",
    "    return gamma, error_gamma\n"
   ]
  },
  {
   "cell_type": "code",
   "execution_count": 53,
   "id": "d0071900",
   "metadata": {},
   "outputs": [],
   "source": [
    "w2=list_width_avg # (2*np.array(list_width_avg)**(1/2))**"
   ]
  },
  {
   "cell_type": "code",
   "execution_count": 54,
   "id": "3e551822",
   "metadata": {},
   "outputs": [
    {
     "data": {
      "text/plain": [
       "array([0.7214692 , 0.77321858, 0.84739271, 0.91403674, 0.97750818,\n",
       "       1.02117131, 1.05574677, 1.09470896, 1.12501149, 1.14454329])"
      ]
     },
     "execution_count": 54,
     "metadata": {},
     "output_type": "execute_result"
    }
   ],
   "source": [
    "list_width_avg"
   ]
  },
  {
   "cell_type": "code",
   "execution_count": 58,
   "id": "bec92669",
   "metadata": {},
   "outputs": [],
   "source": [
    "gs=np.linspace(2,7.5,10) #np.genfromtxt('output_file_25.txt')[:,0]"
   ]
  },
  {
   "cell_type": "code",
   "execution_count": null,
   "id": "462b8573",
   "metadata": {},
   "outputs": [],
   "source": []
  },
  {
   "cell_type": "code",
   "execution_count": 59,
   "id": "384eacc3",
   "metadata": {},
   "outputs": [],
   "source": [
    "w2=list_width_avg # (2*np.array(list_width_avg)**(1/2))**\n",
    "width_error = list_width_err\n",
    "l=gs"
   ]
  },
  {
   "cell_type": "code",
   "execution_count": 60,
   "id": "3f9690d4",
   "metadata": {},
   "outputs": [
    {
     "name": "stdout",
     "output_type": "stream",
     "text": [
      "Interfacial tension (gamma): 1.80 ± 0.03 mN/m\n"
     ]
    },
    {
     "name": "stderr",
     "output_type": "stream",
     "text": [
      "/home/achangia/.local/lib/python3.7/site-packages/ipykernel_launcher.py:32: RuntimeWarning: invalid value encountered in sqrt\n"
     ]
    },
    {
     "data": {
      "text/plain": [
       "(1.8016305554726622e-21, 2.789333297884854e-23)"
      ]
     },
     "execution_count": 60,
     "metadata": {},
     "output_type": "execute_result"
    },
    {
     "data": {
      "image/png": "[encoded data removed]",
      "text/plain": [
       "<Figure size 504x432 with 1 Axes>"
      ]
     },
     "metadata": {
      "needs_background": "light"
     },
     "output_type": "display_data"
    }
   ],
   "source": [
    "gamma_slab(l[1:-1],w2[1:-1])"
   ]
  },
  {
   "cell_type": "code",
   "execution_count": null,
   "id": "55766191",
   "metadata": {},
   "outputs": [],
   "source": []
  }
 ],
 "metadata": {
  "kernelspec": {
   "display_name": "Python 3 (ipykernel)",
   "language": "python",
   "name": "python3"
  },
  "language_info": {
   "codemirror_mode": {
    "name": "ipython",
    "version": 3
   },
   "file_extension": ".py",
   "mimetype": "text/x-python",
   "name": "python",
   "nbconvert_exporter": "python",
   "pygments_lexer": "ipython3",
   "version": "3.7.4"
  }
 },
 "nbformat": 4,
 "nbformat_minor": 5
}
